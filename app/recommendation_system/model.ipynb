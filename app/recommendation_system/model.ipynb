{
 "cells": [
  {
   "cell_type": "code",
   "execution_count": 2,
   "id": "initial_id",
   "metadata": {
    "collapsed": true,
    "ExecuteTime": {
     "end_time": "2024-05-10T09:16:56.170064900Z",
     "start_time": "2024-05-10T09:16:56.114239100Z"
    }
   },
   "outputs": [
    {
     "name": "stdout",
     "output_type": "stream",
     "text": [
      "                      user_id                   post_id  rating\n",
      "0    6630ddc193b8ddcb96a663e2  6630dfe693b8ddcb96a663e4       1\n",
      "1    6630ddc193b8ddcb96a663e2  6630e08693b8ddcb96a663e6       1\n",
      "2    6630ddc193b8ddcb96a663e2  6630e0c793b8ddcb96a663e8       1\n",
      "3    6630e0fe93b8ddcb96a663e9  6630e13293b8ddcb96a663eb       1\n",
      "4    662ff4f6bc9f94fc79d58881  6630e13293b8ddcb96a663eb       1\n",
      "..                        ...                       ...     ...\n",
      "331  6630ecb593b8ddcb96a6642b  6630ea3493b8ddcb96a66415       0\n",
      "332  6630ecb593b8ddcb96a6642b  6630e5e593b8ddcb96a66409       0\n",
      "333  6630ecb593b8ddcb96a6642b  6630e9bf93b8ddcb96a6640e       0\n",
      "334  6630ecb593b8ddcb96a6642b  6630eb1193b8ddcb96a6641e       0\n",
      "335  6630ecb593b8ddcb96a6642b  6630eaf793b8ddcb96a6641c       0\n",
      "\n",
      "[336 rows x 3 columns]\n"
     ]
    }
   ],
   "source": [
    "from pymongo import MongoClient\n",
    "import pandas as pd\n",
    "import numpy as np\n",
    "\n",
    "client = MongoClient('mongodb://localhost:27017/')\n",
    "db = client['myDatabase']\n",
    "posts = db.posts.find()\n",
    "\n",
    "data = []\n",
    "users = set()   \n",
    "items = set()\n",
    "\n",
    "\n",
    "for post in posts:\n",
    "    post_id = str(post['_id'])\n",
    "    for user_id in post['liked_by_users']:\n",
    "        user_id_str = str(user_id)\n",
    "        data.append({'user_id': user_id_str, 'post_id': post_id, 'rating': 1})\n",
    "        users.add(user_id_str)\n",
    "        items.add(post_id)\n",
    "\n",
    "\n",
    "df = pd.DataFrame(data)\n",
    "\n",
    "\n",
    "negative_data = []\n",
    "n_negatives = 5  # Количество отрицательных образцов на каждый положительный\n",
    "\n",
    "for index, row in df.iterrows():\n",
    "    chosen_items = set(np.random.choice(list(items - {row['post_id']}), n_negatives, replace=False))\n",
    "    for item in chosen_items:\n",
    "        negative_data.append({'user_id': row['user_id'], 'post_id': item, 'rating': 0})\n",
    "\n",
    "negative_df = pd.DataFrame(negative_data)\n",
    "full_df = pd.concat([df, negative_df]).reset_index(drop=True)\n",
    "\n",
    "print(full_df)\n"
   ]
  },
  {
   "cell_type": "code",
   "execution_count": 3,
   "outputs": [
    {
     "data": {
      "text/plain": "                      user_id                   post_id  rating\n0    6630ddc193b8ddcb96a663e2  6630dfe693b8ddcb96a663e4       1\n1    6630ddc193b8ddcb96a663e2  6630e08693b8ddcb96a663e6       1\n2    6630ddc193b8ddcb96a663e2  6630e0c793b8ddcb96a663e8       1\n3    6630e0fe93b8ddcb96a663e9  6630e13293b8ddcb96a663eb       1\n4    662ff4f6bc9f94fc79d58881  6630e13293b8ddcb96a663eb       1\n..                        ...                       ...     ...\n331  6630ecb593b8ddcb96a6642b  6630ea3493b8ddcb96a66415       0\n332  6630ecb593b8ddcb96a6642b  6630e5e593b8ddcb96a66409       0\n333  6630ecb593b8ddcb96a6642b  6630e9bf93b8ddcb96a6640e       0\n334  6630ecb593b8ddcb96a6642b  6630eb1193b8ddcb96a6641e       0\n335  6630ecb593b8ddcb96a6642b  6630eaf793b8ddcb96a6641c       0\n\n[336 rows x 3 columns]",
      "text/html": "<div>\n<style scoped>\n    .dataframe tbody tr th:only-of-type {\n        vertical-align: middle;\n    }\n\n    .dataframe tbody tr th {\n        vertical-align: top;\n    }\n\n    .dataframe thead th {\n        text-align: right;\n    }\n</style>\n<table border=\"1\" class=\"dataframe\">\n  <thead>\n    <tr style=\"text-align: right;\">\n      <th></th>\n      <th>user_id</th>\n      <th>post_id</th>\n      <th>rating</th>\n    </tr>\n  </thead>\n  <tbody>\n    <tr>\n      <th>0</th>\n      <td>6630ddc193b8ddcb96a663e2</td>\n      <td>6630dfe693b8ddcb96a663e4</td>\n      <td>1</td>\n    </tr>\n    <tr>\n      <th>1</th>\n      <td>6630ddc193b8ddcb96a663e2</td>\n      <td>6630e08693b8ddcb96a663e6</td>\n      <td>1</td>\n    </tr>\n    <tr>\n      <th>2</th>\n      <td>6630ddc193b8ddcb96a663e2</td>\n      <td>6630e0c793b8ddcb96a663e8</td>\n      <td>1</td>\n    </tr>\n    <tr>\n      <th>3</th>\n      <td>6630e0fe93b8ddcb96a663e9</td>\n      <td>6630e13293b8ddcb96a663eb</td>\n      <td>1</td>\n    </tr>\n    <tr>\n      <th>4</th>\n      <td>662ff4f6bc9f94fc79d58881</td>\n      <td>6630e13293b8ddcb96a663eb</td>\n      <td>1</td>\n    </tr>\n    <tr>\n      <th>...</th>\n      <td>...</td>\n      <td>...</td>\n      <td>...</td>\n    </tr>\n    <tr>\n      <th>331</th>\n      <td>6630ecb593b8ddcb96a6642b</td>\n      <td>6630ea3493b8ddcb96a66415</td>\n      <td>0</td>\n    </tr>\n    <tr>\n      <th>332</th>\n      <td>6630ecb593b8ddcb96a6642b</td>\n      <td>6630e5e593b8ddcb96a66409</td>\n      <td>0</td>\n    </tr>\n    <tr>\n      <th>333</th>\n      <td>6630ecb593b8ddcb96a6642b</td>\n      <td>6630e9bf93b8ddcb96a6640e</td>\n      <td>0</td>\n    </tr>\n    <tr>\n      <th>334</th>\n      <td>6630ecb593b8ddcb96a6642b</td>\n      <td>6630eb1193b8ddcb96a6641e</td>\n      <td>0</td>\n    </tr>\n    <tr>\n      <th>335</th>\n      <td>6630ecb593b8ddcb96a6642b</td>\n      <td>6630eaf793b8ddcb96a6641c</td>\n      <td>0</td>\n    </tr>\n  </tbody>\n</table>\n<p>336 rows × 3 columns</p>\n</div>"
     },
     "execution_count": 3,
     "metadata": {},
     "output_type": "execute_result"
    }
   ],
   "source": [
    "df = full_df\n",
    "df"
   ],
   "metadata": {
    "collapsed": false,
    "ExecuteTime": {
     "end_time": "2024-05-10T09:16:59.434676700Z",
     "start_time": "2024-05-10T09:16:59.376201Z"
    }
   },
   "id": "38a8b45cc27092a0"
  },
  {
   "cell_type": "code",
   "execution_count": 5,
   "outputs": [],
   "source": [
    "from surprise import Dataset, Reader, KNNBasic\n",
    "from surprise.model_selection import cross_validate\n",
    "import pandas as pd"
   ],
   "metadata": {
    "collapsed": false,
    "ExecuteTime": {
     "end_time": "2024-05-03T15:21:52.624763400Z",
     "start_time": "2024-05-03T15:21:52.608793800Z"
    }
   },
   "id": "81066117ca314d92"
  },
  {
   "cell_type": "code",
   "execution_count": 4,
   "outputs": [
    {
     "data": {
      "text/plain": "                      user_id                   post_id  rating\n0    6630ddc193b8ddcb96a663e2  6630dfe693b8ddcb96a663e4       1\n1    6630ddc193b8ddcb96a663e2  6630e08693b8ddcb96a663e6       1\n2    6630ddc193b8ddcb96a663e2  6630e0c793b8ddcb96a663e8       1\n3    6630e0fe93b8ddcb96a663e9  6630e13293b8ddcb96a663eb       1\n4    662ff4f6bc9f94fc79d58881  6630e13293b8ddcb96a663eb       1\n..                        ...                       ...     ...\n331  6630ecb593b8ddcb96a6642b  6630ea3493b8ddcb96a66415       0\n332  6630ecb593b8ddcb96a6642b  6630e5e593b8ddcb96a66409       0\n333  6630ecb593b8ddcb96a6642b  6630e9bf93b8ddcb96a6640e       0\n334  6630ecb593b8ddcb96a6642b  6630eb1193b8ddcb96a6641e       0\n335  6630ecb593b8ddcb96a6642b  6630eaf793b8ddcb96a6641c       0\n\n[336 rows x 3 columns]",
      "text/html": "<div>\n<style scoped>\n    .dataframe tbody tr th:only-of-type {\n        vertical-align: middle;\n    }\n\n    .dataframe tbody tr th {\n        vertical-align: top;\n    }\n\n    .dataframe thead th {\n        text-align: right;\n    }\n</style>\n<table border=\"1\" class=\"dataframe\">\n  <thead>\n    <tr style=\"text-align: right;\">\n      <th></th>\n      <th>user_id</th>\n      <th>post_id</th>\n      <th>rating</th>\n    </tr>\n  </thead>\n  <tbody>\n    <tr>\n      <th>0</th>\n      <td>6630ddc193b8ddcb96a663e2</td>\n      <td>6630dfe693b8ddcb96a663e4</td>\n      <td>1</td>\n    </tr>\n    <tr>\n      <th>1</th>\n      <td>6630ddc193b8ddcb96a663e2</td>\n      <td>6630e08693b8ddcb96a663e6</td>\n      <td>1</td>\n    </tr>\n    <tr>\n      <th>2</th>\n      <td>6630ddc193b8ddcb96a663e2</td>\n      <td>6630e0c793b8ddcb96a663e8</td>\n      <td>1</td>\n    </tr>\n    <tr>\n      <th>3</th>\n      <td>6630e0fe93b8ddcb96a663e9</td>\n      <td>6630e13293b8ddcb96a663eb</td>\n      <td>1</td>\n    </tr>\n    <tr>\n      <th>4</th>\n      <td>662ff4f6bc9f94fc79d58881</td>\n      <td>6630e13293b8ddcb96a663eb</td>\n      <td>1</td>\n    </tr>\n    <tr>\n      <th>...</th>\n      <td>...</td>\n      <td>...</td>\n      <td>...</td>\n    </tr>\n    <tr>\n      <th>331</th>\n      <td>6630ecb593b8ddcb96a6642b</td>\n      <td>6630ea3493b8ddcb96a66415</td>\n      <td>0</td>\n    </tr>\n    <tr>\n      <th>332</th>\n      <td>6630ecb593b8ddcb96a6642b</td>\n      <td>6630e5e593b8ddcb96a66409</td>\n      <td>0</td>\n    </tr>\n    <tr>\n      <th>333</th>\n      <td>6630ecb593b8ddcb96a6642b</td>\n      <td>6630e9bf93b8ddcb96a6640e</td>\n      <td>0</td>\n    </tr>\n    <tr>\n      <th>334</th>\n      <td>6630ecb593b8ddcb96a6642b</td>\n      <td>6630eb1193b8ddcb96a6641e</td>\n      <td>0</td>\n    </tr>\n    <tr>\n      <th>335</th>\n      <td>6630ecb593b8ddcb96a6642b</td>\n      <td>6630eaf793b8ddcb96a6641c</td>\n      <td>0</td>\n    </tr>\n  </tbody>\n</table>\n<p>336 rows × 3 columns</p>\n</div>"
     },
     "execution_count": 4,
     "metadata": {},
     "output_type": "execute_result"
    }
   ],
   "source": [
    "df"
   ],
   "metadata": {
    "collapsed": false,
    "ExecuteTime": {
     "end_time": "2024-05-10T09:17:10.130336300Z",
     "start_time": "2024-05-10T09:17:10.106819Z"
    }
   },
   "id": "3b1ab22a99a1da31"
  },
  {
   "cell_type": "code",
   "execution_count": 13,
   "outputs": [
    {
     "name": "stdout",
     "output_type": "stream",
     "text": [
      "Estimating biases using als...\n",
      "Computing the pearson_baseline similarity matrix...\n",
      "Done computing similarity matrix.\n",
      "user: 6630ecb593b8ddcb96a6642b item: 6630e46293b8ddcb96a663fd r_ui = 0.00   est = 0.11   {'actual_k': 18, 'was_impossible': False}\n",
      "user: 662ff4f6bc9f94fc79d58881 item: 6630ebf793b8ddcb96a6642a r_ui = 0.00   est = 0.03   {'actual_k': 31, 'was_impossible': False}\n",
      "user: 6630ecb593b8ddcb96a6642b item: 6630e4b793b8ddcb96a66400 r_ui = 0.00   est = 0.04   {'actual_k': 16, 'was_impossible': False}\n",
      "user: 6630eb4793b8ddcb96a66421 item: 6630e1e493b8ddcb96a663ed r_ui = 0.00   est = 0.05   {'actual_k': 3, 'was_impossible': False}\n",
      "user: 6630e25d93b8ddcb96a663f0 item: 6630e2ba93b8ddcb96a663f2 r_ui = 1.00   est = 0.00   {'actual_k': 8, 'was_impossible': False}\n",
      "user: 6630e47d93b8ddcb96a663fe item: 6630eba393b8ddcb96a66427 r_ui = 0.00   est = 0.10   {'actual_k': 4, 'was_impossible': False}\n",
      "user: 6630e47d93b8ddcb96a663fe item: 6631491a93b8ddcb96a6642f r_ui = 0.00   est = 0.00   {'actual_k': 4, 'was_impossible': False}\n",
      "user: 6630e0fe93b8ddcb96a663e9 item: 6630eaf793b8ddcb96a6641c r_ui = 0.00   est = 0.00   {'actual_k': 5, 'was_impossible': False}\n",
      "user: 6630e97c93b8ddcb96a6640c item: 6630e08693b8ddcb96a663e6 r_ui = 0.00   est = 0.15   {'actual_k': 7, 'was_impossible': False}\n",
      "user: 6630ea1493b8ddcb96a66413 item: 6630eb1193b8ddcb96a6641e r_ui = 0.00   est = 0.01   {'actual_k': 10, 'was_impossible': False}\n",
      "user: 6630ecb593b8ddcb96a6642b item: 6630e24193b8ddcb96a663ef r_ui = 0.00   est = 0.51   {'actual_k': 12, 'was_impossible': False}\n",
      "user: 6630e36f93b8ddcb96a663f7 item: 6630eb1193b8ddcb96a6641e r_ui = 0.00   est = 0.03   {'actual_k': 9, 'was_impossible': False}\n",
      "user: 6630e57793b8ddcb96a66405 item: 6630e90793b8ddcb96a6640b r_ui = 1.00   est = 0.00   {'actual_k': 6, 'was_impossible': False}\n",
      "user: 6630ddc193b8ddcb96a663e2 item: 6630e08693b8ddcb96a663e6 r_ui = 1.00   est = 0.00   {'actual_k': 4, 'was_impossible': False}\n",
      "user: 6630e47d93b8ddcb96a663fe item: 6630e35593b8ddcb96a663f6 r_ui = 0.00   est = 0.24   {'actual_k': 6, 'was_impossible': False}\n",
      "user: 6630eb4793b8ddcb96a66421 item: 6630e35593b8ddcb96a663f6 r_ui = 0.00   est = 0.16   {'actual_k': 6, 'was_impossible': False}\n",
      "user: 662ff4f6bc9f94fc79d58881 item: 6630eb2e93b8ddcb96a66420 r_ui = 0.00   est = 0.04   {'actual_k': 29, 'was_impossible': False}\n",
      "user: 662ff4f6bc9f94fc79d58881 item: 6630e2ea93b8ddcb96a663f4 r_ui = 0.00   est = 0.28   {'actual_k': 22, 'was_impossible': False}\n",
      "user: 6630e57793b8ddcb96a66405 item: 6630e2ba93b8ddcb96a663f2 r_ui = 0.00   est = 0.00   {'actual_k': 4, 'was_impossible': False}\n",
      "user: 6630ecb593b8ddcb96a6642b item: 6630e13293b8ddcb96a663eb r_ui = 0.00   est = 0.02   {'actual_k': 19, 'was_impossible': False}\n",
      "user: 6630e0fe93b8ddcb96a663e9 item: 6630e2ea93b8ddcb96a663f4 r_ui = 0.00   est = 0.02   {'actual_k': 5, 'was_impossible': False}\n",
      "user: 6630ecb593b8ddcb96a6642b item: 6630e2ea93b8ddcb96a663f4 r_ui = 0.00   est = 0.01   {'actual_k': 13, 'was_impossible': False}\n",
      "user: 6630ddc193b8ddcb96a663e2 item: 6630eb8993b8ddcb96a66425 r_ui = 0.00   est = 0.17   {'actual_k': 8, 'was_impossible': False}\n",
      "user: 662ff4f6bc9f94fc79d58881 item: 6630e9fc93b8ddcb96a66412 r_ui = 0.00   est = 0.25   {'actual_k': 28, 'was_impossible': False}\n",
      "user: 6630ecb593b8ddcb96a6642b item: 6631491a93b8ddcb96a6642f r_ui = 0.00   est = 0.00   {'actual_k': 17, 'was_impossible': False}\n",
      "user: 6630ead593b8ddcb96a6641a item: 6631491a93b8ddcb96a6642f r_ui = 0.00   est = 0.00   {'actual_k': 7, 'was_impossible': False}\n",
      "user: 6630ead593b8ddcb96a6641a item: 6630eb8993b8ddcb96a66425 r_ui = 0.00   est = 0.20   {'actual_k': 6, 'was_impossible': False}\n",
      "user: 6630eb4793b8ddcb96a66421 item: 6630ebf793b8ddcb96a6642a r_ui = 0.00   est = 0.91   {'actual_k': 1, 'was_impossible': False}\n",
      "user: 6630ecb593b8ddcb96a6642b item: 6630eab793b8ddcb96a66419 r_ui = 0.00   est = 0.98   {'actual_k': 10, 'was_impossible': False}\n",
      "user: 6630ea1493b8ddcb96a66413 item: 6630ea3493b8ddcb96a66415 r_ui = 1.00   est = 0.00   {'actual_k': 4, 'was_impossible': False}\n",
      "user: 662ff4f6bc9f94fc79d58881 item: 6631491a93b8ddcb96a6642f r_ui = 0.00   est = 0.00   {'actual_k': 40, 'was_impossible': False}\n",
      "user: 662ff4f6bc9f94fc79d58881 item: 6630e2ba93b8ddcb96a663f2 r_ui = 0.00   est = 0.00   {'actual_k': 40, 'was_impossible': False}\n",
      "user: 6630e97c93b8ddcb96a6640c item: 6630e9fc93b8ddcb96a66412 r_ui = 0.00   est = 1.00   {'actual_k': 4, 'was_impossible': False}\n",
      "user: 6630e97c93b8ddcb96a6640c item: 6630eb1193b8ddcb96a6641e r_ui = 0.00   est = 0.00   {'actual_k': 8, 'was_impossible': False}\n",
      "user: 6630e47d93b8ddcb96a663fe item: 6630e4b793b8ddcb96a66400 r_ui = 0.00   est = 0.50   {'actual_k': 6, 'was_impossible': False}\n",
      "user: 662ff4f6bc9f94fc79d58881 item: 6630eb2e93b8ddcb96a66420 r_ui = 0.00   est = 0.04   {'actual_k': 29, 'was_impossible': False}\n",
      "user: 662ff4f6bc9f94fc79d58881 item: 6630ea3493b8ddcb96a66415 r_ui = 1.00   est = 0.00   {'actual_k': 40, 'was_impossible': False}\n",
      "user: 6630ddc193b8ddcb96a663e2 item: 6630ea3493b8ddcb96a66415 r_ui = 0.00   est = 0.00   {'actual_k': 9, 'was_impossible': False}\n",
      "user: 662ff4f6bc9f94fc79d58881 item: 6630e42593b8ddcb96a663fb r_ui = 1.00   est = 0.22   {'actual_k': 33, 'was_impossible': False}\n",
      "user: 6630e0fe93b8ddcb96a663e9 item: 6630eb8993b8ddcb96a66425 r_ui = 0.00   est = 0.01   {'actual_k': 3, 'was_impossible': False}\n",
      "user: 662ff4f6bc9f94fc79d58881 item: 6630e5af93b8ddcb96a66407 r_ui = 0.00   est = 0.52   {'actual_k': 27, 'was_impossible': False}\n",
      "user: 6630ecb593b8ddcb96a6642b item: 6630e51f93b8ddcb96a66402 r_ui = 0.00   est = 0.00   {'actual_k': 16, 'was_impossible': False}\n",
      "user: 6630e36f93b8ddcb96a663f7 item: 6630e2ea93b8ddcb96a663f4 r_ui = 0.00   est = 0.00   {'actual_k': 6, 'was_impossible': False}\n",
      "user: 662ff4f6bc9f94fc79d58881 item: 6630e46293b8ddcb96a663fd r_ui = 0.00   est = 0.01   {'actual_k': 40, 'was_impossible': False}\n",
      "user: 6630ecb593b8ddcb96a6642b item: 6630e55e93b8ddcb96a66404 r_ui = 1.00   est = 0.02   {'actual_k': 17, 'was_impossible': False}\n",
      "user: 6630e57793b8ddcb96a66405 item: 6630e9bf93b8ddcb96a6640e r_ui = 0.00   est = 0.06   {'actual_k': 3, 'was_impossible': False}\n",
      "user: 6630ead593b8ddcb96a6641a item: 6630e2ba93b8ddcb96a663f2 r_ui = 0.00   est = 0.00   {'actual_k': 5, 'was_impossible': False}\n",
      "user: 6630e97c93b8ddcb96a6640c item: 6630e4b793b8ddcb96a66400 r_ui = 0.00   est = 0.29   {'actual_k': 4, 'was_impossible': False}\n",
      "user: 6630ea1493b8ddcb96a66413 item: 6630ea7193b8ddcb96a66417 r_ui = 1.00   est = 0.01   {'actual_k': 4, 'was_impossible': False}\n",
      "user: 6630e25d93b8ddcb96a663f0 item: 6630ea7193b8ddcb96a66417 r_ui = 0.00   est = 0.32   {'actual_k': 4, 'was_impossible': False}\n",
      "user: 6630e57793b8ddcb96a66405 item: 6630eba393b8ddcb96a66427 r_ui = 0.00   est = 0.00   {'actual_k': 5, 'was_impossible': False}\n",
      "user: 662ff4f6bc9f94fc79d58881 item: 6630eab793b8ddcb96a66419 r_ui = 1.00   est = 0.15   {'actual_k': 18, 'was_impossible': False}\n",
      "user: 6630ea1493b8ddcb96a66413 item: 6630ebf793b8ddcb96a6642a r_ui = 0.00   est = 0.00   {'actual_k': 6, 'was_impossible': False}\n",
      "user: 6630e97c93b8ddcb96a6640c item: 6630ea3493b8ddcb96a66415 r_ui = 0.00   est = 0.10   {'actual_k': 8, 'was_impossible': False}\n",
      "user: 6630ecb593b8ddcb96a6642b item: 6630ea7193b8ddcb96a66417 r_ui = 0.00   est = 0.00   {'actual_k': 17, 'was_impossible': False}\n",
      "user: 662ff4f6bc9f94fc79d58881 item: 6630e9bf93b8ddcb96a6640e r_ui = 0.00   est = 0.05   {'actual_k': 37, 'was_impossible': False}\n",
      "user: 662ff4f6bc9f94fc79d58881 item: 6630eb6f93b8ddcb96a66423 r_ui = 0.00   est = 0.05   {'actual_k': 34, 'was_impossible': False}\n",
      "user: 662ff4f6bc9f94fc79d58881 item: 6630dfe693b8ddcb96a663e4 r_ui = 0.00   est = 0.05   {'actual_k': 38, 'was_impossible': False}\n",
      "user: 6630e25d93b8ddcb96a663f0 item: 6630dfe693b8ddcb96a663e4 r_ui = 0.00   est = 0.01   {'actual_k': 6, 'was_impossible': False}\n",
      "user: 662ff4f6bc9f94fc79d58881 item: 6630e08693b8ddcb96a663e6 r_ui = 0.00   est = 0.01   {'actual_k': 22, 'was_impossible': False}\n",
      "user: 6630ecb593b8ddcb96a6642b item: 6630ea3493b8ddcb96a66415 r_ui = 0.00   est = 0.00   {'actual_k': 18, 'was_impossible': False}\n",
      "user: 6630ecb593b8ddcb96a6642b item: 6630e13293b8ddcb96a663eb r_ui = 0.00   est = 0.02   {'actual_k': 19, 'was_impossible': False}\n",
      "user: 6630ead593b8ddcb96a6641a item: 6630eb1193b8ddcb96a6641e r_ui = 1.00   est = 0.00   {'actual_k': 5, 'was_impossible': False}\n",
      "user: 6630e0fe93b8ddcb96a663e9 item: 6630eb2e93b8ddcb96a66420 r_ui = 0.00   est = 0.10   {'actual_k': 4, 'was_impossible': False}\n",
      "user: 6630ecb593b8ddcb96a6642b item: 6630e08693b8ddcb96a663e6 r_ui = 0.00   est = 0.02   {'actual_k': 12, 'was_impossible': False}\n",
      "user: 6630e47d93b8ddcb96a663fe item: 6630e55e93b8ddcb96a66404 r_ui = 0.00   est = 0.95   {'actual_k': 7, 'was_impossible': False}\n",
      "user: 662ff4f6bc9f94fc79d58881 item: 6630e90793b8ddcb96a6640b r_ui = 0.00   est = 0.00   {'actual_k': 40, 'was_impossible': False}\n",
      "user: 662ff4f6bc9f94fc79d58881 item: 6630e90793b8ddcb96a6640b r_ui = 0.00   est = 0.00   {'actual_k': 40, 'was_impossible': False}\n",
      "user: 6630ecb593b8ddcb96a6642b item: 6630e4b793b8ddcb96a66400 r_ui = 0.00   est = 0.04   {'actual_k': 16, 'was_impossible': False}\n",
      "user: 6630eb4793b8ddcb96a66421 item: 6630e3cd93b8ddcb96a663f9 r_ui = 0.00   est = 0.76   {'actual_k': 4, 'was_impossible': False}\n",
      "user: 6630e0fe93b8ddcb96a663e9 item: 6630ea7193b8ddcb96a66417 r_ui = 0.00   est = 0.12   {'actual_k': 8, 'was_impossible': False}\n",
      "user: 6630eb4793b8ddcb96a66421 item: 6630eba393b8ddcb96a66427 r_ui = 0.00   est = 0.89   {'actual_k': 6, 'was_impossible': False}\n",
      "user: 6630ddc193b8ddcb96a663e2 item: 6630e3cd93b8ddcb96a663f9 r_ui = 0.00   est = 0.36   {'actual_k': 7, 'was_impossible': False}\n",
      "user: 662ff4f6bc9f94fc79d58881 item: 6630eb1193b8ddcb96a6641e r_ui = 0.00   est = 0.00   {'actual_k': 40, 'was_impossible': False}\n",
      "user: 6630ecb593b8ddcb96a6642b item: 6630eb1193b8ddcb96a6641e r_ui = 0.00   est = 0.52   {'actual_k': 18, 'was_impossible': False}\n",
      "user: 6630e0fe93b8ddcb96a663e9 item: 6630e08693b8ddcb96a663e6 r_ui = 0.00   est = 0.06   {'actual_k': 4, 'was_impossible': False}\n",
      "user: 6630e25d93b8ddcb96a663f0 item: 6630eb2e93b8ddcb96a66420 r_ui = 0.00   est = 0.09   {'actual_k': 8, 'was_impossible': False}\n",
      "user: 6630e25d93b8ddcb96a663f0 item: 6630eb2e93b8ddcb96a66420 r_ui = 0.00   est = 0.09   {'actual_k': 8, 'was_impossible': False}\n",
      "user: 6630ecb593b8ddcb96a6642b item: 6631491a93b8ddcb96a6642f r_ui = 1.00   est = 0.00   {'actual_k': 17, 'was_impossible': False}\n",
      "user: 6630ecb593b8ddcb96a6642b item: 6630eba393b8ddcb96a66427 r_ui = 0.00   est = 0.76   {'actual_k': 18, 'was_impossible': False}\n",
      "user: 6630e57793b8ddcb96a66405 item: 6630eb2e93b8ddcb96a66420 r_ui = 0.00   est = 0.08   {'actual_k': 3, 'was_impossible': False}\n",
      "user: 6630e36f93b8ddcb96a663f7 item: 6630eb6f93b8ddcb96a66423 r_ui = 0.00   est = 0.35   {'actual_k': 7, 'was_impossible': False}\n",
      "user: 6630ead593b8ddcb96a6641a item: 6630eba393b8ddcb96a66427 r_ui = 0.00   est = 0.03   {'actual_k': 4, 'was_impossible': False}\n",
      "user: 6630eb4793b8ddcb96a66421 item: 6630eb8993b8ddcb96a66425 r_ui = 0.00   est = 0.51   {'actual_k': 5, 'was_impossible': False}\n",
      "RMSE: 0.4640\n"
     ]
    },
    {
     "data": {
      "text/plain": "0.4639569923147151"
     },
     "execution_count": 13,
     "metadata": {},
     "output_type": "execute_result"
    }
   ],
   "source": [
    "from surprise import KNNWithMeans\n",
    "from surprise import Dataset, Reader\n",
    "from surprise.model_selection import train_test_split\n",
    "\n",
    "sim_options = {\n",
    "    'name': 'pearson_baseline',\n",
    "    'user_based': False,  # item-based подход\n",
    "    'shrinkage': 100\n",
    "}\n",
    "\n",
    "\n",
    "model = KNNWithMeans(sim_options=sim_options)\n",
    "\n",
    "reader = Reader(rating_scale=(0, 1))\n",
    "data = Dataset.load_from_df(df[['user_id', 'post_id', 'rating']], reader)\n",
    "\n",
    "trainset, testset = train_test_split(data, test_size=0.25)\n",
    "\n",
    "model.fit(trainset)\n",
    "\n",
    "\n",
    "predictions = model.test(testset)\n",
    "for pred in predictions:\n",
    "    print(pred)\n",
    "\n",
    "from surprise import accuracy\n",
    "accuracy.rmse(predictions)\n"
   ],
   "metadata": {
    "collapsed": false,
    "ExecuteTime": {
     "end_time": "2024-05-10T10:45:32.493619Z",
     "start_time": "2024-05-10T10:45:32.448226100Z"
    }
   },
   "id": "c57a654488fa01a6"
  },
  {
   "cell_type": "code",
   "execution_count": 29,
   "outputs": [
    {
     "name": "stdout",
     "output_type": "stream",
     "text": [
      "Estimating biases using als...\n",
      "Computing the pearson_baseline similarity matrix...\n",
      "Done computing similarity matrix.\n",
      "RMSE on test data:\n",
      "RMSE: 0.4562\n",
      "\n",
      "Detailed predictions:\n",
      "   User ID    Item ID  True Rating  Pred Rating      Error\n",
      "[Prediction(uid='6630ecb593b8ddcb96a6642b', iid='6630e51f93b8ddcb96a66402', r_ui=0.0, est=0, details={'actual_k': 1, 'was_impossible': False}), Prediction(uid='662ff4f6bc9f94fc79d58881', iid='6630dfe693b8ddcb96a663e4', r_ui=0.0, est=0.0069444444444444475, details={'actual_k': 1, 'was_impossible': False}), Prediction(uid='6630e36f93b8ddcb96a663f7', iid='6630eb2e93b8ddcb96a66420', r_ui=0.0, est=0.0502483009657628, details={'actual_k': 3, 'was_impossible': False}), Prediction(uid='6630eb4793b8ddcb96a66421', iid='6630e13293b8ddcb96a663eb', r_ui=0.0, est=0.15833333333333333, details={'actual_k': 2, 'was_impossible': False}), Prediction(uid='6630e57793b8ddcb96a66405', iid='6630e3cd93b8ddcb96a663f9', r_ui=0.0, est=0.6895999245502403, details={'actual_k': 3, 'was_impossible': False}), Prediction(uid='6630e97c93b8ddcb96a6640c', iid='6630ebf793b8ddcb96a6642a', r_ui=0.0, est=0.8085683459538474, details={'actual_k': 2, 'was_impossible': False}), Prediction(uid='662ff4f6bc9f94fc79d58881', iid='6630eb6f93b8ddcb96a66423', r_ui=0.0, est=0.003964996401300991, details={'actual_k': 3, 'was_impossible': False}), Prediction(uid='662ff4f6bc9f94fc79d58881', iid='6630e46293b8ddcb96a663fd', r_ui=0.0, est=0, details={'actual_k': 2, 'was_impossible': False}), Prediction(uid='6630ea1493b8ddcb96a66413', iid='6630eb6f93b8ddcb96a66423', r_ui=0.0, est=0.03563861156628104, details={'actual_k': 2, 'was_impossible': False}), Prediction(uid='6630e0fe93b8ddcb96a663e9', iid='6631491a93b8ddcb96a6642f', r_ui=0.0, est=0, details={'actual_k': 1, 'was_impossible': False}), Prediction(uid='6630e57793b8ddcb96a66405', iid='6630e13293b8ddcb96a663eb', r_ui=0.0, est=0.20940170940170943, details={'actual_k': 4, 'was_impossible': False}), Prediction(uid='6630e36f93b8ddcb96a663f7', iid='6630e42593b8ddcb96a663fb', r_ui=0.0, est=0.0031566960121234833, details={'actual_k': 3, 'was_impossible': False}), Prediction(uid='6630e36f93b8ddcb96a663f7', iid='6630eb1193b8ddcb96a6641e', r_ui=0.0, est=0.10971850830252866, details={'actual_k': 4, 'was_impossible': False}), Prediction(uid='6630ebba93b8ddcb96a66428', iid='6630e0c793b8ddcb96a663e8', r_ui=0.0, est=0.2, details={'actual_k': 0, 'was_impossible': False}), Prediction(uid='6630e25d93b8ddcb96a663f0', iid='6630eab793b8ddcb96a66419', r_ui=0.0, est=0.07299120658917235, details={'actual_k': 3, 'was_impossible': False}), Prediction(uid='662ff4f6bc9f94fc79d58881', iid='6630eccf93b8ddcb96a6642d', r_ui=0.0, est=0.0069444444444444475, details={'actual_k': 1, 'was_impossible': False}), Prediction(uid='6630ecb593b8ddcb96a6642b', iid='6630e9dc93b8ddcb96a66410', r_ui=0.0, est=0, details={'actual_k': 1, 'was_impossible': False}), Prediction(uid='662ff4f6bc9f94fc79d58881', iid='6630e9fc93b8ddcb96a66412', r_ui=0.0, est=0.30227748221097345, details={'actual_k': 5, 'was_impossible': False}), Prediction(uid='6630e25d93b8ddcb96a663f0', iid='6630dfe693b8ddcb96a663e4', r_ui=0.0, est=1, details={'actual_k': 1, 'was_impossible': False}), Prediction(uid='6630ddc193b8ddcb96a663e2', iid='6630e24193b8ddcb96a663ef', r_ui=0.0, est=0.2, details={'actual_k': 0, 'was_impossible': False}), Prediction(uid='6630ecb593b8ddcb96a6642b', iid='6630e55e93b8ddcb96a66404', r_ui=0.0, est=0.46385245351227206, details={'actual_k': 3, 'was_impossible': False}), Prediction(uid='6630e25d93b8ddcb96a663f0', iid='6630dfe693b8ddcb96a663e4', r_ui=0.0, est=1, details={'actual_k': 1, 'was_impossible': False}), Prediction(uid='6630e47d93b8ddcb96a663fe', iid='6630e5e593b8ddcb96a66409', r_ui=0.0, est=0.1829883691853626, details={'actual_k': 4, 'was_impossible': False}), Prediction(uid='662ff4f6bc9f94fc79d58881', iid='6630e24193b8ddcb96a663ef', r_ui=0.0, est=0.47078133068516625, details={'actual_k': 3, 'was_impossible': False}), Prediction(uid='6630ecb593b8ddcb96a6642b', iid='6630e5e593b8ddcb96a66409', r_ui=0.0, est=0, details={'actual_k': 1, 'was_impossible': False}), Prediction(uid='662ff4f6bc9f94fc79d58881', iid='6630e9fc93b8ddcb96a66412', r_ui=0.0, est=0.30227748221097345, details={'actual_k': 5, 'was_impossible': False}), Prediction(uid='662ff4f6bc9f94fc79d58881', iid='6630e5af93b8ddcb96a66407', r_ui=0.0, est=0.5343828992402463, details={'actual_k': 3, 'was_impossible': False}), Prediction(uid='662ff4f6bc9f94fc79d58881', iid='6630e46293b8ddcb96a663fd', r_ui=0.0, est=0, details={'actual_k': 2, 'was_impossible': False}), Prediction(uid='6630e57793b8ddcb96a66405', iid='6630e2ba93b8ddcb96a663f2', r_ui=0.0, est=0, details={'actual_k': 5, 'was_impossible': False}), Prediction(uid='662ff4f6bc9f94fc79d58881', iid='6630e2ba93b8ddcb96a663f2', r_ui=0.0, est=0, details={'actual_k': 4, 'was_impossible': False}), Prediction(uid='6630eb4793b8ddcb96a66421', iid='6630eccf93b8ddcb96a6642d', r_ui=0.0, est=0.6583333333333333, details={'actual_k': 2, 'was_impossible': False}), Prediction(uid='6630ead593b8ddcb96a6641a', iid='6630eba393b8ddcb96a66427', r_ui=0.0, est=0.09883680658490551, details={'actual_k': 4, 'was_impossible': False}), Prediction(uid='662ff4f6bc9f94fc79d58881', iid='6630ebf793b8ddcb96a6642a', r_ui=0.0, est=0, details={'actual_k': 4, 'was_impossible': False}), Prediction(uid='662ff4f6bc9f94fc79d58881', iid='6630eaf793b8ddcb96a6641c', r_ui=1.0, est=0.19444444444444445, details={'actual_k': 0, 'was_impossible': False}), Prediction(uid='6630ead593b8ddcb96a6641a', iid='6630e2ba93b8ddcb96a663f2', r_ui=0.0, est=0, details={'actual_k': 1, 'was_impossible': False}), Prediction(uid='6630ead593b8ddcb96a6641a', iid='6630e51f93b8ddcb96a66402', r_ui=0.0, est=0.039285714285714285, details={'actual_k': 1, 'was_impossible': False}), Prediction(uid='6630e25d93b8ddcb96a663f0', iid='6630eb8993b8ddcb96a66425', r_ui=0.0, est=0.004166585598677275, details={'actual_k': 3, 'was_impossible': False}), Prediction(uid='6630ecb593b8ddcb96a6642b', iid='6630e90793b8ddcb96a6640b', r_ui=0.0, est=0.175, details={'actual_k': 0, 'was_impossible': False}), Prediction(uid='6630ecb593b8ddcb96a6642b', iid='6630e9dc93b8ddcb96a66410', r_ui=0.0, est=0, details={'actual_k': 1, 'was_impossible': False}), Prediction(uid='662ff4f6bc9f94fc79d58881', iid='6630e90793b8ddcb96a6640b', r_ui=0.0, est=0.0024632464954192634, details={'actual_k': 5, 'was_impossible': False}), Prediction(uid='6630ecb593b8ddcb96a6642b', iid='6630e24193b8ddcb96a663ef', r_ui=0.0, est=0.0018247022816690328, details={'actual_k': 2, 'was_impossible': False}), Prediction(uid='662ff4f6bc9f94fc79d58881', iid='6630e51f93b8ddcb96a66402', r_ui=1.0, est=0.055015508552995335, details={'actual_k': 5, 'was_impossible': False}), Prediction(uid='6630ecb593b8ddcb96a6642b', iid='6630eb1193b8ddcb96a6641e', r_ui=0.0, est=0.4661524876267963, details={'actual_k': 4, 'was_impossible': False}), Prediction(uid='662ff4f6bc9f94fc79d58881', iid='6630dfe693b8ddcb96a663e4', r_ui=0.0, est=0.0069444444444444475, details={'actual_k': 1, 'was_impossible': False}), Prediction(uid='662ff4f6bc9f94fc79d58881', iid='6630e46293b8ddcb96a663fd', r_ui=0.0, est=0, details={'actual_k': 2, 'was_impossible': False}), Prediction(uid='6630e0fe93b8ddcb96a663e9', iid='6630e1e493b8ddcb96a663ed', r_ui=1.0, est=0.06666666666666667, details={'actual_k': 0, 'was_impossible': False}), Prediction(uid='662ff4f6bc9f94fc79d58881', iid='6630e90793b8ddcb96a6640b', r_ui=0.0, est=0.0024632464954192634, details={'actual_k': 5, 'was_impossible': False}), Prediction(uid='662ff4f6bc9f94fc79d58881', iid='6630eb6f93b8ddcb96a66423', r_ui=0.0, est=0.003964996401300991, details={'actual_k': 3, 'was_impossible': False}), Prediction(uid='6630eb4793b8ddcb96a66421', iid='6630eb8993b8ddcb96a66425', r_ui=0.0, est=0.5, details={'actual_k': 2, 'was_impossible': False}), Prediction(uid='6630eb4793b8ddcb96a66421', iid='6630ebf793b8ddcb96a6642a', r_ui=0.0, est=0.15597439159883547, details={'actual_k': 3, 'was_impossible': False}), Prediction(uid='6630ecb593b8ddcb96a6642b', iid='6630e46293b8ddcb96a663fd', r_ui=0.0, est=1, details={'actual_k': 1, 'was_impossible': False}), Prediction(uid='6630ecb593b8ddcb96a6642b', iid='6630e24193b8ddcb96a663ef', r_ui=1.0, est=0.0018247022816690328, details={'actual_k': 2, 'was_impossible': False}), Prediction(uid='6630eb4793b8ddcb96a66421', iid='6630e9fc93b8ddcb96a66412', r_ui=0.0, est=0.15833333333333333, details={'actual_k': 1, 'was_impossible': False}), Prediction(uid='6630ecb593b8ddcb96a6642b', iid='6630e51f93b8ddcb96a66402', r_ui=0.0, est=0, details={'actual_k': 1, 'was_impossible': False}), Prediction(uid='6630eb4793b8ddcb96a66421', iid='6630eba393b8ddcb96a66427', r_ui=0.0, est=0.9201145576330421, details={'actual_k': 4, 'was_impossible': False}), Prediction(uid='6630e0fe93b8ddcb96a663e9', iid='6630e24193b8ddcb96a663ef', r_ui=1.0, est=0, details={'actual_k': 1, 'was_impossible': False}), Prediction(uid='6630e57793b8ddcb96a66405', iid='6630e4b793b8ddcb96a66400', r_ui=0.0, est=0.0547433273429436, details={'actual_k': 5, 'was_impossible': False}), Prediction(uid='662ff4f6bc9f94fc79d58881', iid='6630eb8993b8ddcb96a66425', r_ui=0.0, est=0, details={'actual_k': 1, 'was_impossible': False}), Prediction(uid='6630ddc193b8ddcb96a663e2', iid='6630eb8993b8ddcb96a66425', r_ui=0.0, est=0.022536271835580768, details={'actual_k': 4, 'was_impossible': False}), Prediction(uid='6630ea1493b8ddcb96a66413', iid='6630e1e493b8ddcb96a663ed', r_ui=0.0, est=0.1959951373469601, details={'actual_k': 4, 'was_impossible': False}), Prediction(uid='6630e36f93b8ddcb96a663f7', iid='6630e42593b8ddcb96a663fb', r_ui=1.0, est=0.0031566960121234833, details={'actual_k': 3, 'was_impossible': False}), Prediction(uid='6630e25d93b8ddcb96a663f0', iid='6630e2ba93b8ddcb96a663f2', r_ui=1.0, est=0.005555555555555564, details={'actual_k': 4, 'was_impossible': False}), Prediction(uid='6630ecb593b8ddcb96a6642b', iid='6630eb6f93b8ddcb96a66423', r_ui=1.0, est=0.15941045612752075, details={'actual_k': 3, 'was_impossible': False}), Prediction(uid='6630eb4793b8ddcb96a66421', iid='6630e9dc93b8ddcb96a66410', r_ui=0.0, est=0.15833333333333333, details={'actual_k': 1, 'was_impossible': False}), Prediction(uid='6630e97c93b8ddcb96a6640c', iid='6630ea3493b8ddcb96a66415', r_ui=0.0, est=0, details={'actual_k': 2, 'was_impossible': False}), Prediction(uid='6630ddc193b8ddcb96a663e2', iid='6630e4b793b8ddcb96a66400', r_ui=0.0, est=0.0017559912686024859, details={'actual_k': 2, 'was_impossible': False}), Prediction(uid='6630e25d93b8ddcb96a663f0', iid='6631491a93b8ddcb96a6642f', r_ui=0.0, est=0.005555555555555591, details={'actual_k': 3, 'was_impossible': False}), Prediction(uid='6630e36f93b8ddcb96a663f7', iid='6630e9dc93b8ddcb96a66410', r_ui=0.0, est=0.0502483009657628, details={'actual_k': 3, 'was_impossible': False}), Prediction(uid='6630e47d93b8ddcb96a663fe', iid='6630ebf793b8ddcb96a6642a', r_ui=0.0, est=0.05497613211383956, details={'actual_k': 4, 'was_impossible': False}), Prediction(uid='6630e36f93b8ddcb96a663f7', iid='6630eb8993b8ddcb96a66425', r_ui=0.0, est=0.09999999999999999, details={'actual_k': 1, 'was_impossible': False}), Prediction(uid='662ff4f6bc9f94fc79d58881', iid='6630e46293b8ddcb96a663fd', r_ui=0.0, est=0, details={'actual_k': 2, 'was_impossible': False}), Prediction(uid='6630e25d93b8ddcb96a663f0', iid='6630eb2e93b8ddcb96a66420', r_ui=0.0, est=0.010343749806085989, details={'actual_k': 8, 'was_impossible': False}), Prediction(uid='6630eb4793b8ddcb96a66421', iid='6630e35593b8ddcb96a663f6', r_ui=0.0, est=0.3333333333333333, details={'actual_k': 0, 'was_impossible': False}), Prediction(uid='662ff4f6bc9f94fc79d58881', iid='6630e35593b8ddcb96a663f6', r_ui=0.0, est=0.3415680952264447, details={'actual_k': 5, 'was_impossible': False}), Prediction(uid='6630ea1493b8ddcb96a66413', iid='6630eb8993b8ddcb96a66425', r_ui=0.0, est=0.13333333333333336, details={'actual_k': 1, 'was_impossible': False}), Prediction(uid='6630ecb593b8ddcb96a6642b', iid='6630e13293b8ddcb96a663eb', r_ui=0.0, est=0, details={'actual_k': 2, 'was_impossible': False}), Prediction(uid='6630eb4793b8ddcb96a66421', iid='6630e1e493b8ddcb96a663ed', r_ui=0.0, est=0.3333333333333333, details={'actual_k': 0, 'was_impossible': False}), Prediction(uid='6630e25d93b8ddcb96a663f0', iid='6630e51f93b8ddcb96a66402', r_ui=0.0, est=0.0013426311143350522, details={'actual_k': 3, 'was_impossible': False}), Prediction(uid='6630e57793b8ddcb96a66405', iid='6630e90793b8ddcb96a6640b', r_ui=1.0, est=0, details={'actual_k': 4, 'was_impossible': False}), Prediction(uid='662ff4f6bc9f94fc79d58881', iid='6630e90793b8ddcb96a6640b', r_ui=0.0, est=0.0024632464954192634, details={'actual_k': 5, 'was_impossible': False}), Prediction(uid='6630ecb593b8ddcb96a6642b', iid='6630e46293b8ddcb96a663fd', r_ui=0.0, est=1, details={'actual_k': 1, 'was_impossible': False}), Prediction(uid='662ff4f6bc9f94fc79d58881', iid='6630e13293b8ddcb96a663eb', r_ui=0.0, est=0.25, details={'actual_k': 4, 'was_impossible': False}), Prediction(uid='662ff4f6bc9f94fc79d58881', iid='6630e46293b8ddcb96a663fd', r_ui=0.0, est=0, details={'actual_k': 2, 'was_impossible': False}), Prediction(uid='6630ead593b8ddcb96a6641a', iid='6630eaf793b8ddcb96a6641c', r_ui=0.0, est=0.8950460124933565, details={'actual_k': 2, 'was_impossible': False})]\n",
      "6630ecb593b8ddcb96a6642b 6630e51f93b8ddcb96a66402          0.0        0.000      0.000\n",
      "662ff4f6bc9f94fc79d58881 6630dfe693b8ddcb96a663e4          0.0        0.007     -0.007\n",
      "6630e36f93b8ddcb96a663f7 6630eb2e93b8ddcb96a66420          0.0        0.050     -0.050\n",
      "6630eb4793b8ddcb96a66421 6630e13293b8ddcb96a663eb          0.0        0.158     -0.158\n",
      "6630e57793b8ddcb96a66405 6630e3cd93b8ddcb96a663f9          0.0        0.690     -0.690\n",
      "6630e97c93b8ddcb96a6640c 6630ebf793b8ddcb96a6642a          0.0        0.809     -0.809\n",
      "662ff4f6bc9f94fc79d58881 6630eb6f93b8ddcb96a66423          0.0        0.004     -0.004\n",
      "662ff4f6bc9f94fc79d58881 6630e46293b8ddcb96a663fd          0.0        0.000      0.000\n",
      "6630ea1493b8ddcb96a66413 6630eb6f93b8ddcb96a66423          0.0        0.036     -0.036\n",
      "6630e0fe93b8ddcb96a663e9 6631491a93b8ddcb96a6642f          0.0        0.000      0.000\n",
      "6630e57793b8ddcb96a66405 6630e13293b8ddcb96a663eb          0.0        0.209     -0.209\n",
      "6630e36f93b8ddcb96a663f7 6630e42593b8ddcb96a663fb          0.0        0.003     -0.003\n",
      "6630e36f93b8ddcb96a663f7 6630eb1193b8ddcb96a6641e          0.0        0.110     -0.110\n",
      "6630ebba93b8ddcb96a66428 6630e0c793b8ddcb96a663e8          0.0        0.200     -0.200\n",
      "6630e25d93b8ddcb96a663f0 6630eab793b8ddcb96a66419          0.0        0.073     -0.073\n",
      "662ff4f6bc9f94fc79d58881 6630eccf93b8ddcb96a6642d          0.0        0.007     -0.007\n",
      "6630ecb593b8ddcb96a6642b 6630e9dc93b8ddcb96a66410          0.0        0.000      0.000\n",
      "662ff4f6bc9f94fc79d58881 6630e9fc93b8ddcb96a66412          0.0        0.302     -0.302\n",
      "6630e25d93b8ddcb96a663f0 6630dfe693b8ddcb96a663e4          0.0        1.000     -1.000\n",
      "6630ddc193b8ddcb96a663e2 6630e24193b8ddcb96a663ef          0.0        0.200     -0.200\n",
      "6630ecb593b8ddcb96a6642b 6630e55e93b8ddcb96a66404          0.0        0.464     -0.464\n",
      "6630e25d93b8ddcb96a663f0 6630dfe693b8ddcb96a663e4          0.0        1.000     -1.000\n",
      "6630e47d93b8ddcb96a663fe 6630e5e593b8ddcb96a66409          0.0        0.183     -0.183\n",
      "662ff4f6bc9f94fc79d58881 6630e24193b8ddcb96a663ef          0.0        0.471     -0.471\n",
      "6630ecb593b8ddcb96a6642b 6630e5e593b8ddcb96a66409          0.0        0.000      0.000\n",
      "662ff4f6bc9f94fc79d58881 6630e9fc93b8ddcb96a66412          0.0        0.302     -0.302\n",
      "662ff4f6bc9f94fc79d58881 6630e5af93b8ddcb96a66407          0.0        0.534     -0.534\n",
      "662ff4f6bc9f94fc79d58881 6630e46293b8ddcb96a663fd          0.0        0.000      0.000\n",
      "6630e57793b8ddcb96a66405 6630e2ba93b8ddcb96a663f2          0.0        0.000      0.000\n",
      "662ff4f6bc9f94fc79d58881 6630e2ba93b8ddcb96a663f2          0.0        0.000      0.000\n",
      "6630eb4793b8ddcb96a66421 6630eccf93b8ddcb96a6642d          0.0        0.658     -0.658\n",
      "6630ead593b8ddcb96a6641a 6630eba393b8ddcb96a66427          0.0        0.099     -0.099\n",
      "662ff4f6bc9f94fc79d58881 6630ebf793b8ddcb96a6642a          0.0        0.000      0.000\n",
      "662ff4f6bc9f94fc79d58881 6630eaf793b8ddcb96a6641c          1.0        0.194      0.806\n",
      "6630ead593b8ddcb96a6641a 6630e2ba93b8ddcb96a663f2          0.0        0.000      0.000\n",
      "6630ead593b8ddcb96a6641a 6630e51f93b8ddcb96a66402          0.0        0.039     -0.039\n",
      "6630e25d93b8ddcb96a663f0 6630eb8993b8ddcb96a66425          0.0        0.004     -0.004\n",
      "6630ecb593b8ddcb96a6642b 6630e90793b8ddcb96a6640b          0.0        0.175     -0.175\n",
      "6630ecb593b8ddcb96a6642b 6630e9dc93b8ddcb96a66410          0.0        0.000      0.000\n",
      "662ff4f6bc9f94fc79d58881 6630e90793b8ddcb96a6640b          0.0        0.002     -0.002\n",
      "6630ecb593b8ddcb96a6642b 6630e24193b8ddcb96a663ef          0.0        0.002     -0.002\n",
      "662ff4f6bc9f94fc79d58881 6630e51f93b8ddcb96a66402          1.0        0.055      0.945\n",
      "6630ecb593b8ddcb96a6642b 6630eb1193b8ddcb96a6641e          0.0        0.466     -0.466\n",
      "662ff4f6bc9f94fc79d58881 6630dfe693b8ddcb96a663e4          0.0        0.007     -0.007\n",
      "662ff4f6bc9f94fc79d58881 6630e46293b8ddcb96a663fd          0.0        0.000      0.000\n",
      "6630e0fe93b8ddcb96a663e9 6630e1e493b8ddcb96a663ed          1.0        0.067      0.933\n",
      "662ff4f6bc9f94fc79d58881 6630e90793b8ddcb96a6640b          0.0        0.002     -0.002\n",
      "662ff4f6bc9f94fc79d58881 6630eb6f93b8ddcb96a66423          0.0        0.004     -0.004\n",
      "6630eb4793b8ddcb96a66421 6630eb8993b8ddcb96a66425          0.0        0.500     -0.500\n",
      "6630eb4793b8ddcb96a66421 6630ebf793b8ddcb96a6642a          0.0        0.156     -0.156\n",
      "6630ecb593b8ddcb96a6642b 6630e46293b8ddcb96a663fd          0.0        1.000     -1.000\n",
      "6630ecb593b8ddcb96a6642b 6630e24193b8ddcb96a663ef          1.0        0.002      0.998\n",
      "6630eb4793b8ddcb96a66421 6630e9fc93b8ddcb96a66412          0.0        0.158     -0.158\n",
      "6630ecb593b8ddcb96a6642b 6630e51f93b8ddcb96a66402          0.0        0.000      0.000\n",
      "6630eb4793b8ddcb96a66421 6630eba393b8ddcb96a66427          0.0        0.920     -0.920\n",
      "6630e0fe93b8ddcb96a663e9 6630e24193b8ddcb96a663ef          1.0        0.000      1.000\n",
      "6630e57793b8ddcb96a66405 6630e4b793b8ddcb96a66400          0.0        0.055     -0.055\n",
      "662ff4f6bc9f94fc79d58881 6630eb8993b8ddcb96a66425          0.0        0.000      0.000\n",
      "6630ddc193b8ddcb96a663e2 6630eb8993b8ddcb96a66425          0.0        0.023     -0.023\n",
      "6630ea1493b8ddcb96a66413 6630e1e493b8ddcb96a663ed          0.0        0.196     -0.196\n",
      "6630e36f93b8ddcb96a663f7 6630e42593b8ddcb96a663fb          1.0        0.003      0.997\n",
      "6630e25d93b8ddcb96a663f0 6630e2ba93b8ddcb96a663f2          1.0        0.006      0.994\n",
      "6630ecb593b8ddcb96a6642b 6630eb6f93b8ddcb96a66423          1.0        0.159      0.841\n",
      "6630eb4793b8ddcb96a66421 6630e9dc93b8ddcb96a66410          0.0        0.158     -0.158\n",
      "6630e97c93b8ddcb96a6640c 6630ea3493b8ddcb96a66415          0.0        0.000      0.000\n",
      "6630ddc193b8ddcb96a663e2 6630e4b793b8ddcb96a66400          0.0        0.002     -0.002\n",
      "6630e25d93b8ddcb96a663f0 6631491a93b8ddcb96a6642f          0.0        0.006     -0.006\n",
      "6630e36f93b8ddcb96a663f7 6630e9dc93b8ddcb96a66410          0.0        0.050     -0.050\n",
      "6630e47d93b8ddcb96a663fe 6630ebf793b8ddcb96a6642a          0.0        0.055     -0.055\n",
      "6630e36f93b8ddcb96a663f7 6630eb8993b8ddcb96a66425          0.0        0.100     -0.100\n",
      "662ff4f6bc9f94fc79d58881 6630e46293b8ddcb96a663fd          0.0        0.000      0.000\n",
      "6630e25d93b8ddcb96a663f0 6630eb2e93b8ddcb96a66420          0.0        0.010     -0.010\n",
      "6630eb4793b8ddcb96a66421 6630e35593b8ddcb96a663f6          0.0        0.333     -0.333\n",
      "662ff4f6bc9f94fc79d58881 6630e35593b8ddcb96a663f6          0.0        0.342     -0.342\n",
      "6630ea1493b8ddcb96a66413 6630eb8993b8ddcb96a66425          0.0        0.133     -0.133\n",
      "6630ecb593b8ddcb96a6642b 6630e13293b8ddcb96a663eb          0.0        0.000      0.000\n",
      "6630eb4793b8ddcb96a66421 6630e1e493b8ddcb96a663ed          0.0        0.333     -0.333\n",
      "6630e25d93b8ddcb96a663f0 6630e51f93b8ddcb96a66402          0.0        0.001     -0.001\n",
      "6630e57793b8ddcb96a66405 6630e90793b8ddcb96a6640b          1.0        0.000      1.000\n",
      "662ff4f6bc9f94fc79d58881 6630e90793b8ddcb96a6640b          0.0        0.002     -0.002\n",
      "6630ecb593b8ddcb96a6642b 6630e46293b8ddcb96a663fd          0.0        1.000     -1.000\n",
      "662ff4f6bc9f94fc79d58881 6630e13293b8ddcb96a663eb          0.0        0.250     -0.250\n",
      "662ff4f6bc9f94fc79d58881 6630e46293b8ddcb96a663fd          0.0        0.000      0.000\n",
      "6630ead593b8ddcb96a6641a 6630eaf793b8ddcb96a6641c          0.0        0.895     -0.895\n"
     ]
    }
   ],
   "source": [
    "from surprise import KNNWithMeans\n",
    "from surprise import Dataset, Reader\n",
    "from surprise.model_selection import train_test_split\n",
    "from surprise.accuracy import rmse\n",
    "\n",
    "def detailed_predictions(predictions):\n",
    "    print(f\"{'User ID':>10} {'Item ID':>10} {'True Rating':>12} {'Pred Rating':>12} {'Error':>10}\")\n",
    "    print(predictions)\n",
    "    for prediction in predictions:\n",
    "        uid = prediction.uid\n",
    "        iid = prediction.iid\n",
    "        true_r = prediction.r_ui\n",
    "        est = prediction.est\n",
    "        error = true_r - est\n",
    "        \n",
    "        print(f\"{uid:>10} {iid:>10} {true_r:>12} {est:>12.3f} {error:>10.3f}\")\n",
    "\n",
    "sim_options = {\n",
    "    'name': 'pearson_baseline',\n",
    "    'user_based': True,  # item-based подход\n",
    "    'shrinkage': 1      # регуляризация для предотвращения деления на ноль\n",
    "}\n",
    "\n",
    "model = KNNWithMeans(sim_options=sim_options)\n",
    "\n",
    "reader = Reader(rating_scale=(0, 1))\n",
    "data = Dataset.load_from_df(df[['user_id', 'post_id', 'rating']], reader)\n",
    "\n",
    "trainset, testset = train_test_split(data, test_size=0.25)\n",
    "\n",
    "model.fit(trainset)\n",
    "\n",
    "predictions = model.test(testset)\n",
    "\n",
    "print(\"RMSE on test data:\")\n",
    "rmse(predictions)\n",
    "\n",
    "print(\"\\nDetailed predictions:\")\n",
    "detailed_predictions(predictions)\n"
   ],
   "metadata": {
    "collapsed": false,
    "ExecuteTime": {
     "end_time": "2024-05-10T19:16:17.646806700Z",
     "start_time": "2024-05-10T19:16:17.628648700Z"
    }
   },
   "id": "9438df62b423b924"
  },
  {
   "cell_type": "code",
   "execution_count": 31,
   "outputs": [
    {
     "name": "stdout",
     "output_type": "stream",
     "text": [
      "Рекомендации для пользователя: [('6630dfe693b8ddcb96a663e4', 1), ('6630e35593b8ddcb96a663f6', 1), ('6630e9bf93b8ddcb96a6640e', 1), ('6630e0c793b8ddcb96a663e8', 1), ('6630e9dc93b8ddcb96a66410', 1), ('6630e08693b8ddcb96a663e6', 0.8612766897804034), ('6630e9fc93b8ddcb96a66412', 0.5125), ('6630e2ea93b8ddcb96a663f4', 0.5), ('6630e2ba93b8ddcb96a663f2', 0.2), ('6630e1e493b8ddcb96a663ed', 0.2), ('6630e5e593b8ddcb96a66409', 0.2), ('6630e13293b8ddcb96a663eb', 0.2), ('6631491a93b8ddcb96a6642f', 0.2), ('6630eccf93b8ddcb96a6642d', 0.2), ('6630e24193b8ddcb96a663ef', 0.2), ('6630e5af93b8ddcb96a66407', 0.2), ('6630eb6f93b8ddcb96a66423', 0.022536271835580768), ('6630eb8993b8ddcb96a66425', 0.022536271835580768), ('6630eba393b8ddcb96a66427', 0.0204880796160839), ('6630eab793b8ddcb96a66419', 0.012500000000000011), ('6630eb1193b8ddcb96a6641e', 0.0020496042235790823), ('6630e42593b8ddcb96a663fb', 0.0017559912686024859), ('6630eb2e93b8ddcb96a66420', 0.0011163229185381096), ('6630e46293b8ddcb96a663fd', 0.0011163229185381096), ('6630ea3493b8ddcb96a66415', 0), ('6630eaf793b8ddcb96a6641c', 0), ('6630ebf793b8ddcb96a6642a', 0), ('6630e90793b8ddcb96a6640b', 0), ('6630e3cd93b8ddcb96a663f9', 0), ('6630ea7193b8ddcb96a66417', 0)]\n"
     ]
    }
   ],
   "source": [
    "def recommend_new_items(model, trainset, user_id, known_item_ids):\n",
    "    \"\"\"\n",
    "    Функция для предсказания рейтингов неоцененных товаров для пользователя.\n",
    "\n",
    "    :param model: Обученная модель предсказания.\n",
    "    :param trainset: Обучающий набор данных, использованный для обучения модели.\n",
    "    :param user_id: ID пользователя, для которого делаются предсказания.\n",
    "    :param known_item_ids: Список ID товаров, которые пользователь уже оценил.\n",
    "    :return: Словарь с ID товаров и предсказанными рейтингами, отсортированный по убыванию рейтинга.\n",
    "    \"\"\"\n",
    "    # Получаем полный список товаров из trainset\n",
    "    all_items = trainset.all_items()\n",
    "    item_id_to_raw = trainset.to_raw_iid\n",
    "    \n",
    "    # Фильтруем и преобразуем индексы в исходные ID товаров\n",
    "    unknown_items = [item_id_to_raw(i) for i in all_items if item_id_to_raw(i) not in known_item_ids]\n",
    "    \n",
    "    predictions = {}\n",
    "    for item_id in unknown_items:\n",
    "        pred = model.predict(user_id, item_id)\n",
    "        predictions[item_id] = pred.est\n",
    "    \n",
    "    # Сортируем предсказания по убыванию предсказанного рейтинга\n",
    "    sorted_predictions = sorted(predictions.items(), key=lambda x: x[1], reverse=True)\n",
    "    \n",
    "    return sorted_predictions\n",
    "\n",
    "# Пример использования\n",
    "user_id = '6630ddc193b8ddcb96a663e2'\n",
    "known_item_ids = ['6630e4b793b8ddcb96a66400', '6630e51f93b8ddcb96a66402', '6630e55e93b8ddcb96a66404']\n",
    "recommendations = recommend_new_items(model, trainset, user_id, known_item_ids)\n",
    "\n",
    "print(\"Рекомендации для пользователя:\", recommendations)\n"
   ],
   "metadata": {
    "collapsed": false,
    "ExecuteTime": {
     "end_time": "2024-05-10T19:18:53.535049900Z",
     "start_time": "2024-05-10T19:18:53.512742100Z"
    }
   },
   "id": "c3adae905f5f170a"
  },
  {
   "cell_type": "code",
   "execution_count": 38,
   "outputs": [],
   "source": [
    "import os\n",
    "from surprise import dump\n",
    "\n",
    "model_path = 'models/recommendation_model.pkl'\n",
    "dump.dump(model_path, algo=model)"
   ],
   "metadata": {
    "collapsed": false,
    "ExecuteTime": {
     "end_time": "2024-05-10T19:35:32.105044400Z",
     "start_time": "2024-05-10T19:35:32.083476900Z"
    }
   },
   "id": "9c47df87e075d9ea"
  }
 ],
 "metadata": {
  "kernelspec": {
   "display_name": "Python 3",
   "language": "python",
   "name": "python3"
  },
  "language_info": {
   "codemirror_mode": {
    "name": "ipython",
    "version": 2
   },
   "file_extension": ".py",
   "mimetype": "text/x-python",
   "name": "python",
   "nbconvert_exporter": "python",
   "pygments_lexer": "ipython2",
   "version": "2.7.6"
  }
 },
 "nbformat": 4,
 "nbformat_minor": 5
}
